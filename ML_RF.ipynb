{
 "cells": [
  {
   "cell_type": "code",
   "execution_count": 2,
   "metadata": {},
   "outputs": [],
   "source": [
    "import csv\n",
    "import numpy as np\n",
    "from sklearn.ensemble import RandomForestClassifier\n",
    "from sklearn import preprocessing\n",
    "from sklearn.utils import shuffle\n",
    "from sklearn.metrics import mean_squared_error, explained_variance_score\n",
    "import pandas as pd\n",
    "from sklearn.model_selection import cross_val_score\n",
    "import joblib\n",
    "import sklearn\n",
    "import time"
   ]
  },
  {
   "cell_type": "code",
   "execution_count": 17,
   "metadata": {},
   "outputs": [],
   "source": [
    "def load_dataset(filename):\n",
    "    file_reader = csv.reader(open(filename, 'rt', encoding='UTF-8'), delimiter=',')\n",
    "    X, y = [], []\n",
    "    for row in file_reader:\n",
    "        X.append(row[0:-7])\n",
    "        y.append(row[-3])\n",
    "    # Extract feature names\n",
    "    #feature_names = np.array(X[0])\n",
    "    return np.array(X[0:]).astype(np.float32), np.array(y[0:]).astype(np.float32)#, feature_names\n"
   ]
  },
  {
   "cell_type": "code",
   "execution_count": 18,
   "metadata": {},
   "outputs": [],
   "source": [
    "def random_forest(data_path):\n",
    "    X, y= load_dataset(data_path)\n",
    "    X, y = shuffle(X, y, random_state=7)  # 打乱数据\n",
    "    # X, y = random.shuffle(X, y)\n",
    "    num_training = int(0.7 * len(X))\n",
    "    X_train, y_train = X[:num_training], y[:num_training]\n",
    "    X_test, y_test = X[num_training:], y[num_training:]\n",
    "\n",
    "    rf_clf = RandomForestClassifier(n_estimators=100, max_depth=10, min_samples_split=2)\n",
    "\n",
    "    rf_clf.fit(X_train, y_train)\n",
    "    y_pred = rf_clf.predict(X_test)\n",
    "    accuracy=sklearn.metrics.accuracy_score(y_test, y_pred, normalize=True, sample_weight=None)\n",
    "    f1 = sklearn.metrics.f1_score(y_test, y_pred, average='weighted')\n",
    "    precision=sklearn.metrics.precision_score(y_test, y_pred, average='weighted')\n",
    "    print(accuracy,f1,precision)\n"
   ]
  },
  {
   "cell_type": "code",
   "execution_count": 21,
   "metadata": {
    "scrolled": true
   },
   "outputs": [
    {
     "name": "stdout",
     "output_type": "stream",
     "text": [
      "0.3888888888888889 0.37483749657501764 0.6068151229066262\n",
      "13.888105869293213\n"
     ]
    },
    {
     "name": "stderr",
     "output_type": "stream",
     "text": [
      "D:\\ProgramData\\Anconda3\\lib\\site-packages\\sklearn\\metrics\\classification.py:1135: UndefinedMetricWarning: F-score is ill-defined and being set to 0.0 in labels with no predicted samples.\n",
      "  'precision', 'predicted', average, warn_for)\n",
      "D:\\ProgramData\\Anconda3\\lib\\site-packages\\sklearn\\metrics\\classification.py:1135: UndefinedMetricWarning: Precision is ill-defined and being set to 0.0 in labels with no predicted samples.\n",
      "  'precision', 'predicted', average, warn_for)\n"
     ]
    }
   ],
   "source": [
    "if __name__ == '__main__':\n",
    "    start = time.time()\n",
    "    random_forest('E:/college/2020/ML/data/Amazon_multi.csv')\n",
    "    end = time.time()\n",
    "    print(end-start)"
   ]
  },
  {
   "cell_type": "code",
   "execution_count": 23,
   "metadata": {},
   "outputs": [
    {
     "name": "stdout",
     "output_type": "stream",
     "text": [
      "0.6288888888888889 0.614214438573328 0.6875660766249001\n",
      "13.701302528381348\n"
     ]
    }
   ],
   "source": [
    "import csv\n",
    "import numpy as np\n",
    "from sklearn.ensemble import RandomForestClassifier\n",
    "from sklearn import preprocessing\n",
    "from sklearn.utils import shuffle\n",
    "from sklearn.metrics import mean_squared_error, explained_variance_score\n",
    "import pandas as pd\n",
    "from sklearn.model_selection import cross_val_score\n",
    "import joblib\n",
    "import sklearn\n",
    "import time\n",
    "def load_dataset(filename):\n",
    "    file_reader = csv.reader(open(filename, 'rt', encoding='UTF-8'), delimiter=',')\n",
    "    X, y = [], []\n",
    "    for row in file_reader:\n",
    "        X.append(row[0:-7])\n",
    "        y.append(row[-1])\n",
    "    # Extract feature names\n",
    "    #feature_names = np.array(X[0])\n",
    "    return np.array(X[0:]).astype(np.float32), np.array(y[0:]).astype(np.float32)#, feature_names\n",
    "def random_forest(data_path):\n",
    "    X, y= load_dataset(data_path)\n",
    "    X, y = shuffle(X, y, random_state=7)  # 打乱数据\n",
    "    # X, y = random.shuffle(X, y)\n",
    "    num_training = int(0.7 * len(X))\n",
    "    X_train, y_train = X[:num_training], y[:num_training]\n",
    "    X_test, y_test = X[num_training:], y[num_training:]\n",
    "\n",
    "    rf_clf = RandomForestClassifier(n_estimators=100, max_depth=10, min_samples_split=2)\n",
    "\n",
    "    rf_clf.fit(X_train, y_train)\n",
    "    y_pred = rf_clf.predict(X_test)\n",
    "    accuracy=sklearn.metrics.accuracy_score(y_test, y_pred, normalize=True, sample_weight=None)\n",
    "    f1 = sklearn.metrics.f1_score(y_test, y_pred, average='weighted')\n",
    "    precision=sklearn.metrics.precision_score(y_test, y_pred, average='weighted')\n",
    "    print(accuracy,f1,precision)\n",
    "\n",
    "if __name__ == '__main__':\n",
    "    start = time.time()\n",
    "    random_forest('E:/college/2020/ML/data/Amazon_multi.csv')\n",
    "    end = time.time()\n",
    "    print(end-start)"
   ]
  },
  {
   "cell_type": "code",
   "execution_count": null,
   "metadata": {},
   "outputs": [],
   "source": []
  }
 ],
 "metadata": {
  "kernelspec": {
   "display_name": "Python 3",
   "language": "python",
   "name": "python3"
  },
  "language_info": {
   "codemirror_mode": {
    "name": "ipython",
    "version": 3
   },
   "file_extension": ".py",
   "mimetype": "text/x-python",
   "name": "python",
   "nbconvert_exporter": "python",
   "pygments_lexer": "ipython3",
   "version": "3.6.5"
  }
 },
 "nbformat": 4,
 "nbformat_minor": 2
}
